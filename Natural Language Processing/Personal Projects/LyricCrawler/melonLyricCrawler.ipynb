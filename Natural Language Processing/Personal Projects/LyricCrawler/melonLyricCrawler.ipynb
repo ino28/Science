{
 "cells": [
  {
   "cell_type": "code",
   "execution_count": 353,
   "metadata": {
    "collapsed": true
   },
   "outputs": [],
   "source": [
    "# GET INPUT: artist name\n",
    "artist_name = \"bts\"\n",
    "\n",
    "# GET INPUT: writing path\n",
    "directory = \"lyrics/\" + artist_name"
   ]
  },
  {
   "cell_type": "code",
   "execution_count": 354,
   "metadata": {
    "collapsed": true
   },
   "outputs": [],
   "source": [
    "import urllib3\n",
    "import re\n",
    "import os\n",
    "from bs4 import BeautifulSoup\n",
    "from bs4 import Comment\n",
    "urllib3.disable_warnings()"
   ]
  },
  {
   "cell_type": "code",
   "execution_count": 355,
   "metadata": {},
   "outputs": [],
   "source": [
    "#some messy codes\n",
    "# def url_search_wrapper(field):\n",
    "#     url_wrapper_search = \"https://www.melon.com/search/{}/index.htm?section=&searchGnbYn=Y&kkoSpl=Y&kkoDpType=&linkOrText=T&ipath=srch_form&q=\"\n",
    "#     return url_wrapper_search.format(field)\n",
    "\n",
    "# url_header_search_artist = url_search_wrapper(\"artist\")\n",
    "# url_header_search_song = url_search_wrapper(\"song\")\n",
    "\n",
    "url_header_search_artist = \"https://www.melon.com/search/artist/index.htm?section=&searchGnbYn=Y&kkoSpl=Y&kkoDpType=&linkOrText=T&ipath=srch_form&q=\"\n",
    "\n",
    "# note: retrieving from song 1 to 1000\n",
    "#       orderBy: 최신순=ISSUE_DATE (default), 인기순=POPULAR_SONG_LIST 가나다순=SONG_NAME_WEB_LIST\n",
    "url_header_song_paging = \"https://www.melon.com/artist/songPaging.htm?startIndex=1&pageSize=1000&listType=A&orderBy=ISSUE_DATE&artistId=\"\n",
    "\n",
    "url_header_song_detail = \"https://www.melon.com/song/detail.htm?songId=\"\n",
    "\n",
    "def get_soup_from_url(url):\n",
    "    http = urllib3.PoolManager()\n",
    "    url_result = http.request('GET', url)\n",
    "\n",
    "    ## TODO: handle 404 etc.\n",
    "    decoded_html = url_result.data.decode('utf8')\n",
    "    soup = BeautifulSoup(decoded_html, \"lxml\")\n",
    "    \n",
    "    return soup"
   ]
  },
  {
   "cell_type": "code",
   "execution_count": 356,
   "metadata": {},
   "outputs": [],
   "source": [
    "\"\"\"\n",
    "artist_name -> artist_id\n",
    "\"\"\"\n",
    "soup = get_soup_from_url(url_header_search_artist + artist_name)\n",
    "related_tags = soup.find_all(href=re.compile(\"goArtistDetail\"), limit=1)\n",
    "# for tag in related_tags:\n",
    "#     print(tag)\n",
    "artist_id = re.findall(r'\\d{6}', related_tags[0]['href'])[0]\n",
    "# print(artist_id)"
   ]
  },
  {
   "cell_type": "code",
   "execution_count": 357,
   "metadata": {},
   "outputs": [],
   "source": [
    "\"\"\"\n",
    "artist_id -> songs[id, title, album_id, album_title]\n",
    "\"\"\"\n",
    "soup = get_soup_from_url(url_header_song_paging + artist_id)\n",
    "songs = {}\n",
    "related_tags = soup.find_all(\"a\", href=re.compile(\"playSong\"))\n",
    "for i, tag in enumerate(related_tags):\n",
    "#     print(tag.contents[0])\n",
    "#     print(re.findall(r'\\d{8}', tag['href'])[1])\n",
    "    songs[i] = {}\n",
    "    songs[i]['id'] = re.findall(r',(\\d+)', tag['href'])[0]\n",
    "    songs[i]['title'] = tag.contents[0]\n",
    "related_tags = soup.find_all(\"a\", href=re.compile(\"goAlbumDetail\"))\n",
    "for i, tag in enumerate(related_tags):\n",
    "    \n",
    "    try:\n",
    "        songs[i]['album_id'] = re.findall(r'\\d+', tag['href'])[0]\n",
    "        songs[i]['album_title'] = tag.contents[0]\n",
    "    except:\n",
    "        ## TODO: inform user if a song is not playable (e.g. hidden track)\n",
    "#         print(tag)\n",
    "        continue"
   ]
  },
  {
   "cell_type": "code",
   "execution_count": null,
   "metadata": {
    "scrolled": true
   },
   "outputs": [
    {
     "name": "stdout",
     "output_type": "stream",
     "text": [
      "https://www.melon.com/song/detail.htm?songId=30995596\n",
      "https://www.melon.com/song/detail.htm?songId=30995607\n",
      "https://www.melon.com/song/detail.htm?songId=30637986\n",
      "https://www.melon.com/song/detail.htm?songId=5606797\n"
     ]
    }
   ],
   "source": [
    "\"\"\"\n",
    "song_id -> lyric\n",
    "\"\"\"\n",
    "for i in songs:\n",
    "    song_id = songs[i]['id']\n",
    "    \n",
    "    # filename issue workaround\n",
    "    song_title = songs[i]['title'].replace(r'`', \"'\").replace(r': ', '：').replace(r'/', ':')\n",
    "    album_title = songs[i]['album_title'].replace(r'`', \"'\").replace(r': ', '：').replace(r'/', ':')\n",
    "\n",
    "    soup = get_soup_from_url(url_header_song_detail + song_id)\n",
    "    related_tags = soup.find(class_=\"lyric\")\n",
    "    try:\n",
    "        # WARNING: something melon drops(?) connection because of too much traffic\n",
    "        for child in related_tags.children:\n",
    "            if isinstance(child, Comment):\n",
    "                child.extract()\n",
    "        lyric_cleaned = related_tags.get_text(\"\\n\", strip=True)\n",
    "        \n",
    "        filepath = \"{}/{}\".format(directory, album_title)\n",
    "        if not os.path.exists(filepath):\n",
    "            os.makedirs(filepath)\n",
    "        filename = \"{}/{}.txt\".format(filepath, song_title)\n",
    "        with open(filename, 'w') as outfile:\n",
    "            outfile.write(lyric_cleaned)\n",
    "    except:\n",
    "        ## TODO: inform user if the lyric is missing (e.g. japanese version)\n",
    "        print(url_header_song_detail + song_id)\n",
    "        continue"
   ]
  },
  {
   "cell_type": "code",
   "execution_count": null,
   "metadata": {
    "collapsed": true
   },
   "outputs": [],
   "source": []
  },
  {
   "cell_type": "code",
   "execution_count": null,
   "metadata": {
    "collapsed": true
   },
   "outputs": [],
   "source": []
  }
 ],
 "metadata": {
  "kernelspec": {
   "display_name": "Python 3",
   "language": "python",
   "name": "python3"
  },
  "language_info": {
   "codemirror_mode": {
    "name": "ipython",
    "version": 3
   },
   "file_extension": ".py",
   "mimetype": "text/x-python",
   "name": "python",
   "nbconvert_exporter": "python",
   "pygments_lexer": "ipython3",
   "version": "3.6.3"
  }
 },
 "nbformat": 4,
 "nbformat_minor": 2
}
